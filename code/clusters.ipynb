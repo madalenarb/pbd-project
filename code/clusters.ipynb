{
 "cells": [
  {
   "cell_type": "code",
   "execution_count": 1,
   "metadata": {},
   "outputs": [],
   "source": [
    "import pandas as pd\n",
    "from sklearn.cluster import KMeans\n",
    "import matplotlib.pyplot as plt\n",
    "from sklearn.preprocessing import StandardScaler\n",
    "\n",
    "# Sample DataFrame setup\n",
    "data = pd.DataFrame({\n",
    "    'poses': [\n",
    "        # Example poses data structure\n",
    "        [[(100, 150, 0.9), (200, 250, 0.8)], [(110, 160, 0.88), (210, 260, 0.85)]],  # First frame poses\n",
    "        # More frames\n",
    "    ]\n",
    "})\n",
    "\n",
    "# Extracting features\n",
    "features = []\n",
    "\n",
    "for index, row in data.iterrows():\n",
    "    poses = row['poses']\n",
    "    for pose in poses:\n",
    "        for keypoint in pose:\n",
    "            x, y, visibility = keypoint\n",
    "            features.append([x, y, visibility])\n",
    "\n",
    "# Convert to DataFrame for easier manipulation\n",
    "features_df = pd.DataFrame(features, columns=['x', 'y', 'visibility'])\n"
   ]
  }
 ],
 "metadata": {
  "kernelspec": {
   "display_name": "Python 3",
   "language": "python",
   "name": "python3"
  },
  "language_info": {
   "codemirror_mode": {
    "name": "ipython",
    "version": 3
   },
   "file_extension": ".py",
   "mimetype": "text/x-python",
   "name": "python",
   "nbconvert_exporter": "python",
   "pygments_lexer": "ipython3",
   "version": "3.11.9"
  }
 },
 "nbformat": 4,
 "nbformat_minor": 2
}
